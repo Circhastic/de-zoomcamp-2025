{
 "cells": [
  {
   "cell_type": "markdown",
   "id": "645f7506-6107-40cf-af26-a8f9a677a71f",
   "metadata": {},
   "source": [
    "# Group By"
   ]
  },
  {
   "cell_type": "code",
   "execution_count": 1,
   "id": "4b5f2b1d-ec1d-4566-88ff-db8e3e6963f8",
   "metadata": {},
   "outputs": [
    {
     "name": "stderr",
     "output_type": "stream",
     "text": [
      "Setting default log level to \"WARN\".\n",
      "To adjust logging level use sc.setLogLevel(newLevel). For SparkR, use setLogLevel(newLevel).\n",
      "25/02/25 08:32:12 WARN NativeCodeLoader: Unable to load native-hadoop library for your platform... using builtin-java classes where applicable\n"
     ]
    }
   ],
   "source": [
    "import pyspark\n",
    "from pyspark.sql import SparkSession\n",
    "\n",
    "spark = SparkSession.builder \\\n",
    "    .master(\"local[*]\") \\\n",
    "    .appName('test') \\\n",
    "    .getOrCreate()"
   ]
  },
  {
   "cell_type": "code",
   "execution_count": 6,
   "id": "1af5cb76-f9f2-4f08-9751-7bc655e0f047",
   "metadata": {},
   "outputs": [],
   "source": [
    "df_green = spark.read.parquet('data/pq/green/*/*')"
   ]
  },
  {
   "cell_type": "markdown",
   "id": "17574317-c52f-4e8d-a8ad-bf776c81d8b6",
   "metadata": {},
   "source": [
    "## Green"
   ]
  },
  {
   "cell_type": "code",
   "execution_count": 8,
   "id": "01e78515-91b3-4f8b-9b88-f3134d014da7",
   "metadata": {},
   "outputs": [],
   "source": [
    "df_green.registerTempTable('green')"
   ]
  },
  {
   "cell_type": "code",
   "execution_count": 17,
   "id": "56945af0-38fd-4b4b-9856-045502a4ba1f",
   "metadata": {},
   "outputs": [],
   "source": [
    "df_green_hourly_revenue = spark.sql(\"\"\"\n",
    "SELECT \n",
    "    date_trunc('hour', lpep_pickup_datetime) AS hour, \n",
    "    PULocationID AS zone,\n",
    "\n",
    "    SUM(total_amount) AS amount,\n",
    "    COUNT(1) AS number_records\n",
    "FROM\n",
    "    green\n",
    "WHERE\n",
    "    lpep_pickup_datetime >= '2020-01-01 00:00:00'\n",
    "GROUP BY\n",
    "    1, 2\n",
    "ORDER BY\n",
    "    1, 2\n",
    "\"\"\")"
   ]
  },
  {
   "cell_type": "code",
   "execution_count": 18,
   "id": "fc46ed73-3a72-4694-b22e-6887c12205e4",
   "metadata": {},
   "outputs": [
    {
     "name": "stderr",
     "output_type": "stream",
     "text": [
      "[Stage 11:===================>                                      (1 + 2) / 3]\r"
     ]
    },
    {
     "name": "stdout",
     "output_type": "stream",
     "text": [
      "+-------------------+----+------------------+--------------+\n",
      "|               hour|zone|            amount|number_records|\n",
      "+-------------------+----+------------------+--------------+\n",
      "|2020-01-01 00:00:00|   7| 769.7299999999996|            45|\n",
      "|2020-01-01 00:00:00|  17|195.03000000000003|             9|\n",
      "|2020-01-01 00:00:00|  18|               7.8|             1|\n",
      "|2020-01-01 00:00:00|  22|              15.8|             1|\n",
      "|2020-01-01 00:00:00|  24|              87.6|             3|\n",
      "|2020-01-01 00:00:00|  25| 531.0000000000002|            26|\n",
      "|2020-01-01 00:00:00|  29|              61.3|             1|\n",
      "|2020-01-01 00:00:00|  32| 68.94999999999999|             2|\n",
      "|2020-01-01 00:00:00|  33|317.27000000000004|            11|\n",
      "|2020-01-01 00:00:00|  35|            129.96|             5|\n",
      "|2020-01-01 00:00:00|  36|295.34000000000003|            11|\n",
      "|2020-01-01 00:00:00|  37|            175.67|             6|\n",
      "|2020-01-01 00:00:00|  38| 98.78999999999999|             2|\n",
      "|2020-01-01 00:00:00|  40|168.97999999999996|             8|\n",
      "|2020-01-01 00:00:00|  41|1363.9599999999987|            84|\n",
      "|2020-01-01 00:00:00|  42| 799.7599999999994|            52|\n",
      "|2020-01-01 00:00:00|  43|            107.52|             6|\n",
      "|2020-01-01 00:00:00|  47|              13.3|             1|\n",
      "|2020-01-01 00:00:00|  49|266.76000000000005|            14|\n",
      "|2020-01-01 00:00:00|  51|              17.8|             2|\n",
      "+-------------------+----+------------------+--------------+\n",
      "only showing top 20 rows\n",
      "\n"
     ]
    },
    {
     "name": "stderr",
     "output_type": "stream",
     "text": [
      "                                                                                \r"
     ]
    }
   ],
   "source": [
    "df_green_hourly_revenue.show()"
   ]
  },
  {
   "cell_type": "code",
   "execution_count": 26,
   "id": "1c4d7674-9413-4c78-bee6-a39ab9aa4cc9",
   "metadata": {},
   "outputs": [
    {
     "name": "stderr",
     "output_type": "stream",
     "text": [
      "                                                                                \r"
     ]
    }
   ],
   "source": [
    "df_green_hourly_revenue \\\n",
    "    .repartition(20) \\\n",
    "    .write.parquet('data/report/revenue/green', mode='overwrite')"
   ]
  },
  {
   "cell_type": "markdown",
   "id": "2a8bfbc9-85ff-4a8d-8b27-93a094465b44",
   "metadata": {},
   "source": [
    "## Yellow"
   ]
  },
  {
   "cell_type": "code",
   "execution_count": 21,
   "id": "646e97a4-3aa8-4407-90f8-eca05c27c1dd",
   "metadata": {},
   "outputs": [],
   "source": [
    "df_yellow = spark.read.parquet('data/pq/yellow/*/*')\n",
    "df_yellow.registerTempTable('yellow')"
   ]
  },
  {
   "cell_type": "code",
   "execution_count": 24,
   "id": "fec171ba-3e0c-4f5f-8730-100cf4183ca4",
   "metadata": {},
   "outputs": [],
   "source": [
    "df_yellow_hourly_revenue = spark.sql(\"\"\"\n",
    "SELECT \n",
    "    date_trunc('hour', tpep_pickup_datetime) AS hour, \n",
    "    PULocationID AS zone,\n",
    "\n",
    "    SUM(total_amount) AS amount,\n",
    "    COUNT(1) AS number_records\n",
    "FROM\n",
    "    yellow\n",
    "WHERE\n",
    "    tpep_pickup_datetime >= '2020-01-01 00:00:00'\n",
    "GROUP BY\n",
    "    1, 2\n",
    "ORDER BY\n",
    "    1, 2\n",
    "\"\"\")"
   ]
  },
  {
   "cell_type": "code",
   "execution_count": 25,
   "id": "83ae53d4-44ae-42ed-9bdc-8d9d224f07f7",
   "metadata": {},
   "outputs": [
    {
     "name": "stderr",
     "output_type": "stream",
     "text": [
      "                                                                                \r"
     ]
    }
   ],
   "source": [
    "df_yellow_hourly_revenue \\\n",
    "    .repartition(20) \\\n",
    "    .write.parquet('data/report/revenue/yellow', mode='overwrite')"
   ]
  },
  {
   "cell_type": "markdown",
   "id": "abff0973-f1c4-456f-8d79-a78211985222",
   "metadata": {},
   "source": [
    "# Joins"
   ]
  },
  {
   "cell_type": "code",
   "execution_count": 37,
   "id": "79042fee-c02c-444d-81ed-f905e3622ee6",
   "metadata": {},
   "outputs": [],
   "source": [
    "df_green_hourly_revenue = spark.read.parquet('data/report/revenue/green')\n",
    "df_yellow_hourly_revenue = spark.read.parquet('data/report/revenue/yellow')"
   ]
  },
  {
   "cell_type": "code",
   "execution_count": 38,
   "id": "c70f3fd2-e045-4c54-8bbe-be9a332ea54e",
   "metadata": {},
   "outputs": [],
   "source": [
    "df_green_hourly_revenue_tmp = df_green_hourly_revenue \\\n",
    "    .withColumnRenamed('amount', 'green_amount') \\\n",
    "    .withColumnRenamed('number_records', 'green_number_records')\n",
    "\n",
    "df_yellow_hourly_revenue_tmp = df_yellow_hourly_revenue \\\n",
    "    .withColumnRenamed('amount', 'yellow_amount') \\\n",
    "    .withColumnRenamed('number_records', 'yellow_number_records')"
   ]
  },
  {
   "cell_type": "code",
   "execution_count": 39,
   "id": "ff97b99b-ef34-44d6-b8ce-3820d6483ddc",
   "metadata": {},
   "outputs": [],
   "source": [
    "df_join = df_green_hourly_revenue_tmp.join(df_yellow_hourly_revenue_tmp, on=['hour', 'zone'], how='outer')"
   ]
  },
  {
   "cell_type": "code",
   "execution_count": 40,
   "id": "362b4697-ec12-4da3-bacc-c9451eefa7bb",
   "metadata": {},
   "outputs": [
    {
     "name": "stderr",
     "output_type": "stream",
     "text": [
      "                                                                                \r"
     ]
    }
   ],
   "source": [
    "df_join.write.parquet('data/report/revenue/total', mode='overwrite')"
   ]
  },
  {
   "cell_type": "code",
   "execution_count": 30,
   "id": "20819093-8829-4670-870f-48a6bfd64119",
   "metadata": {},
   "outputs": [
    {
     "name": "stderr",
     "output_type": "stream",
     "text": [
      "[Stage 48:>                                                         (0 + 1) / 1]\r"
     ]
    },
    {
     "name": "stdout",
     "output_type": "stream",
     "text": [
      "+-------------------+----+------------------+--------------+------------------+--------------+\n",
      "|               hour|zone|            amount|number_records|            amount|number_records|\n",
      "+-------------------+----+------------------+--------------+------------------+--------------+\n",
      "|2020-01-01 00:00:00|   3|              null|          null|              25.0|             1|\n",
      "|2020-01-01 00:00:00|   4|              null|          null|1004.3000000000002|            57|\n",
      "|2020-01-01 00:00:00|   7| 769.7299999999996|            45| 455.1700000000001|            38|\n",
      "|2020-01-01 00:00:00|  12|              null|          null|             107.0|             6|\n",
      "|2020-01-01 00:00:00|  13|              null|          null|1214.8000000000002|            56|\n",
      "|2020-01-01 00:00:00|  18|               7.8|             1|               5.8|             1|\n",
      "|2020-01-01 00:00:00|  29|              61.3|             1|              null|          null|\n",
      "|2020-01-01 00:00:00|  36|295.34000000000003|            11|            109.17|             3|\n",
      "|2020-01-01 00:00:00|  37|            175.67|             6|161.60999999999999|             7|\n",
      "|2020-01-01 00:00:00|  38| 98.78999999999999|             2|              null|          null|\n",
      "|2020-01-01 00:00:00|  40|168.97999999999996|             8|             89.97|             5|\n",
      "|2020-01-01 00:00:00|  41|1363.9599999999987|            84|1256.5299999999997|            80|\n",
      "|2020-01-01 00:00:00|  45|              null|          null| 732.4800000000002|            42|\n",
      "|2020-01-01 00:00:00|  47|              13.3|             1|               8.3|             1|\n",
      "|2020-01-01 00:00:00|  48|              null|          null|10773.360000000022|           455|\n",
      "|2020-01-01 00:00:00|  51|              17.8|             2|              31.0|             1|\n",
      "|2020-01-01 00:00:00|  60|            160.04|             6|57.620000000000005|             2|\n",
      "|2020-01-01 00:00:00|  61| 526.7099999999999|            17|            146.64|             3|\n",
      "|2020-01-01 00:00:00|  62|             15.95|             1|             61.43|             1|\n",
      "|2020-01-01 00:00:00|  63|              51.9|             2|              70.8|             1|\n",
      "+-------------------+----+------------------+--------------+------------------+--------------+\n",
      "only showing top 20 rows\n",
      "\n"
     ]
    },
    {
     "name": "stderr",
     "output_type": "stream",
     "text": [
      "                                                                                \r"
     ]
    }
   ],
   "source": [
    "df_join.show()"
   ]
  },
  {
   "cell_type": "code",
   "execution_count": 41,
   "id": "411553d1-8a1d-4f02-bfdd-3e12f0c00cc9",
   "metadata": {},
   "outputs": [],
   "source": [
    "df_join = spark.read.parquet('data/report/revenue/total')"
   ]
  },
  {
   "cell_type": "code",
   "execution_count": 42,
   "id": "852ef66b-7003-4d5e-9d2a-08e4cdf3ecd9",
   "metadata": {},
   "outputs": [
    {
     "name": "stdout",
     "output_type": "stream",
     "text": [
      "+-------------------+----+------------------+--------------------+------------------+---------------------+\n",
      "|               hour|zone|      green_amount|green_number_records|     yellow_amount|yellow_number_records|\n",
      "+-------------------+----+------------------+--------------------+------------------+---------------------+\n",
      "|2020-01-01 00:00:00|  10|              null|                null|             42.41|                    2|\n",
      "|2020-01-01 00:00:00|  14|              null|                null|               8.8|                    1|\n",
      "|2020-01-01 00:00:00|  15|              null|                null|             34.09|                    1|\n",
      "|2020-01-01 00:00:00|  17|195.03000000000003|                   9|220.20999999999998|                    8|\n",
      "|2020-01-01 00:00:00|  22|              15.8|                   1|              null|                 null|\n",
      "|2020-01-01 00:00:00|  24|              87.6|                   3| 754.9500000000002|                   45|\n",
      "|2020-01-01 00:00:00|  25| 531.0000000000002|                  26|            324.35|                   16|\n",
      "|2020-01-01 00:00:00|  32| 68.94999999999999|                   2|              18.0|                    1|\n",
      "|2020-01-01 00:00:00|  33|317.27000000000004|                  11|            255.56|                    8|\n",
      "|2020-01-01 00:00:00|  34|              null|                null|              19.3|                    1|\n",
      "|2020-01-01 00:00:00|  35|            129.96|                   5|              null|                 null|\n",
      "|2020-01-01 00:00:00|  42| 799.7599999999994|                  52| 635.3500000000001|                   46|\n",
      "|2020-01-01 00:00:00|  43|            107.52|                   6| 6539.510000000012|                  390|\n",
      "|2020-01-01 00:00:00|  49|266.76000000000005|                  14|185.64999999999998|                   10|\n",
      "|2020-01-01 00:00:00|  50|              null|                null| 4177.479999999999|                  183|\n",
      "|2020-01-01 00:00:00|  52| 83.33000000000001|                   4|              49.8|                    2|\n",
      "|2020-01-01 00:00:00|  55|            129.29|                   4|              null|                 null|\n",
      "|2020-01-01 00:00:00|  56|             99.69|                   3|              18.1|                    2|\n",
      "|2020-01-01 00:00:00|  59|              50.9|                   3|              null|                 null|\n",
      "|2020-01-01 00:00:00|  65|199.48999999999998|                  10|            409.35|                   19|\n",
      "+-------------------+----+------------------+--------------------+------------------+---------------------+\n",
      "only showing top 20 rows\n",
      "\n"
     ]
    }
   ],
   "source": [
    "df_join.show()"
   ]
  },
  {
   "cell_type": "code",
   "execution_count": 52,
   "id": "457d24af-4900-4125-afa6-e1a798320613",
   "metadata": {},
   "outputs": [],
   "source": [
    "df = spark.read.csv('taxi_zone_lookup.csv', header=True)"
   ]
  },
  {
   "cell_type": "code",
   "execution_count": 53,
   "id": "297dec9f-2935-44f3-aa48-950acecc0805",
   "metadata": {
    "scrolled": true
   },
   "outputs": [],
   "source": [
    "df.write.parquet('zones', mode='overwrite')"
   ]
  },
  {
   "cell_type": "code",
   "execution_count": 54,
   "id": "26b6839c-7e7e-46ac-9061-e7f31b8de349",
   "metadata": {},
   "outputs": [],
   "source": [
    "df_zones = spark.read.parquet('zones/')"
   ]
  },
  {
   "cell_type": "code",
   "execution_count": 55,
   "id": "24a92d57-b740-4117-9ffe-285322fc657e",
   "metadata": {},
   "outputs": [
    {
     "data": {
      "text/plain": [
       "DataFrame[hour: timestamp, zone: int, green_amount: double, green_number_records: bigint, yellow_amount: double, yellow_number_records: bigint]"
      ]
     },
     "execution_count": 55,
     "metadata": {},
     "output_type": "execute_result"
    }
   ],
   "source": [
    "df_join"
   ]
  },
  {
   "cell_type": "code",
   "execution_count": 56,
   "id": "42c3c9b7-42bf-4426-8131-815f7cbae065",
   "metadata": {},
   "outputs": [],
   "source": [
    "df_result = df_join.join(df_zones, df_join.zone == df_zones.LocationID)"
   ]
  },
  {
   "cell_type": "code",
   "execution_count": 60,
   "id": "ca454a22-3c87-4ca0-a67e-67f2445a6d3d",
   "metadata": {},
   "outputs": [
    {
     "name": "stderr",
     "output_type": "stream",
     "text": [
      "                                                                                \r"
     ]
    }
   ],
   "source": [
    "df_result.drop('LocationID', 'zone').write.parquet('tmp/revenue-zones')"
   ]
  }
 ],
 "metadata": {
  "kernelspec": {
   "display_name": "Python 3 (ipykernel)",
   "language": "python",
   "name": "python3"
  },
  "language_info": {
   "codemirror_mode": {
    "name": "ipython",
    "version": 3
   },
   "file_extension": ".py",
   "mimetype": "text/x-python",
   "name": "python",
   "nbconvert_exporter": "python",
   "pygments_lexer": "ipython3",
   "version": "3.12.7"
  }
 },
 "nbformat": 4,
 "nbformat_minor": 5
}
