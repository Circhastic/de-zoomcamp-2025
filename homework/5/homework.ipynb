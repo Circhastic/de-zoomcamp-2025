{
 "cells": [
  {
   "cell_type": "markdown",
   "id": "b42b1f8a-cdb9-42eb-a81b-8fdbaee67e2c",
   "metadata": {},
   "source": [
    "# Homework 5"
   ]
  },
  {
   "cell_type": "code",
   "execution_count": 2,
   "id": "d1d5994b-59e8-4491-bc01-e606c294a4d0",
   "metadata": {},
   "outputs": [],
   "source": [
    "import pyspark\n",
    "from pyspark.sql import SparkSession"
   ]
  },
  {
   "cell_type": "markdown",
   "id": "2de2d33a-6627-47aa-a1c9-614bcdbb9b1c",
   "metadata": {},
   "source": [
    "## Question 1"
   ]
  },
  {
   "cell_type": "code",
   "execution_count": 3,
   "id": "9bf7c8c4-7220-47c4-8c66-7d85631167d3",
   "metadata": {},
   "outputs": [
    {
     "data": {
      "text/plain": [
       "'3.4.2'"
      ]
     },
     "execution_count": 3,
     "metadata": {},
     "output_type": "execute_result"
    }
   ],
   "source": [
    "pyspark.__version__"
   ]
  },
  {
   "cell_type": "code",
   "execution_count": 4,
   "id": "55ffac93-4be2-447a-b4fe-b1f068cf21bf",
   "metadata": {},
   "outputs": [
    {
     "name": "stderr",
     "output_type": "stream",
     "text": [
      "Setting default log level to \"WARN\".\n",
      "To adjust logging level use sc.setLogLevel(newLevel). For SparkR, use setLogLevel(newLevel).\n",
      "25/02/26 11:23:32 WARN NativeCodeLoader: Unable to load native-hadoop library for your platform... using builtin-java classes where applicable\n"
     ]
    }
   ],
   "source": [
    "spark = SparkSession.builder \\\n",
    "    .master(\"local[*]\") \\\n",
    "    .appName('homework') \\\n",
    "    .getOrCreate()"
   ]
  },
  {
   "cell_type": "code",
   "execution_count": 5,
   "id": "462233a2-4c31-4184-8778-c43889c005f7",
   "metadata": {},
   "outputs": [
    {
     "name": "stderr",
     "output_type": "stream",
     "text": [
      "                                                                                \r"
     ]
    }
   ],
   "source": [
    "# df = spark.read.parquet(\"yellow_tripdata_2024-10.parquet\")\n",
    "df = spark.read.parquet('data/')"
   ]
  },
  {
   "cell_type": "code",
   "execution_count": 12,
   "id": "c02bde59-83f8-4f9f-ba44-52c992a9635b",
   "metadata": {},
   "outputs": [
    {
     "name": "stderr",
     "output_type": "stream",
     "text": [
      "                                                                                \r"
     ]
    }
   ],
   "source": [
    "df \\\n",
    "    .repartition(4) \\\n",
    "    .write.parquet('data/')"
   ]
  },
  {
   "cell_type": "code",
   "execution_count": 6,
   "id": "14459e2e-ed84-481b-9e8d-ca28b5bf1057",
   "metadata": {},
   "outputs": [
    {
     "name": "stderr",
     "output_type": "stream",
     "text": [
      "[Stage 2:>                                                          (0 + 1) / 1]\r"
     ]
    },
    {
     "name": "stdout",
     "output_type": "stream",
     "text": [
      "+--------+--------------------+---------------------+---------------+-------------+----------+------------------+------------+------------+------------+-----------+-----+-------+----------+------------+---------------------+------------+--------------------+-----------+\n",
      "|VendorID|tpep_pickup_datetime|tpep_dropoff_datetime|passenger_count|trip_distance|RatecodeID|store_and_fwd_flag|PULocationID|DOLocationID|payment_type|fare_amount|extra|mta_tax|tip_amount|tolls_amount|improvement_surcharge|total_amount|congestion_surcharge|Airport_fee|\n",
      "+--------+--------------------+---------------------+---------------+-------------+----------+------------------+------------+------------+------------+-----------+-----+-------+----------+------------+---------------------+------------+--------------------+-----------+\n",
      "|       2| 2024-10-12 04:16:59|  2024-10-12 04:24:37|              2|         2.07|         1|                 N|         125|         100|           1|       10.7|  1.0|    0.5|       2.0|         0.0|                  1.0|        17.7|                 2.5|        0.0|\n",
      "|       2| 2024-10-11 23:59:07|  2024-10-12 00:24:29|              1|         6.04|         1|                 N|          79|         238|           1|       29.6|  1.0|    0.5|       3.0|         0.0|                  1.0|        37.6|                 2.5|        0.0|\n",
      "|       2| 2024-10-10 14:08:03|  2024-10-10 14:26:53|              1|         1.12|         1|                 N|         230|         141|           1|       16.3|  0.0|    0.5|      4.06|         0.0|                  1.0|       24.36|                 2.5|        0.0|\n",
      "|       2| 2024-10-03 22:22:07|  2024-10-03 22:26:50|              1|         1.51|         1|                 N|         229|         263|           1|        8.6|  1.0|    0.5|      2.72|         0.0|                  1.0|       16.32|                 2.5|        0.0|\n",
      "|       1| 2024-10-05 23:46:46|  2024-10-06 00:29:08|              2|          8.2|         1|                 N|         148|         188|           1|       42.2|  3.5|    0.5|      11.8|         0.0|                  1.0|        59.0|                 2.5|        0.0|\n",
      "+--------+--------------------+---------------------+---------------+-------------+----------+------------------+------------+------------+------------+-----------+-----+-------+----------+------------+---------------------+------------+--------------------+-----------+\n",
      "only showing top 5 rows\n",
      "\n"
     ]
    },
    {
     "name": "stderr",
     "output_type": "stream",
     "text": [
      "                                                                                \r"
     ]
    }
   ],
   "source": [
    "df.show(5)"
   ]
  },
  {
   "cell_type": "markdown",
   "id": "74c20a0e-2d63-4e48-badd-29bbe864b009",
   "metadata": {},
   "source": [
    "## Question 3"
   ]
  },
  {
   "cell_type": "code",
   "execution_count": 9,
   "id": "2e2c21b0-2d7f-43f5-8b84-37c065c3afff",
   "metadata": {},
   "outputs": [
    {
     "name": "stdout",
     "output_type": "stream",
     "text": [
      "+-----------+\n",
      "|count_trips|\n",
      "+-----------+\n",
      "|     127993|\n",
      "+-----------+\n",
      "\n"
     ]
    }
   ],
   "source": [
    "df \\\n",
    "    .filter(\"DATE(tpep_pickup_datetime) = '2024-10-15' AND DATE(tpep_dropoff_datetime) = '2024-10-15'\") \\\n",
    "    .selectExpr(\"count(1) AS count_trips\") \\\n",
    "    .show()"
   ]
  },
  {
   "cell_type": "markdown",
   "id": "09c1ba95-5648-44d3-8a10-48a02753b6a6",
   "metadata": {},
   "source": [
    "## Question 4\n",
    "longest trip length in hours"
   ]
  },
  {
   "cell_type": "code",
   "execution_count": 64,
   "id": "58050a08-6cba-4731-b8b9-6ebd3a0ff1eb",
   "metadata": {},
   "outputs": [
    {
     "name": "stdout",
     "output_type": "stream",
     "text": [
      "+------------------+\n",
      "|     trip_duration|\n",
      "+------------------+\n",
      "|162.61777777777777|\n",
      "+------------------+\n",
      "\n"
     ]
    }
   ],
   "source": [
    "df \\\n",
    "    .selectExpr(\"(unix_timestamp(tpep_dropoff_datetime) - unix_timestamp(tpep_pickup_datetime)) / 3600 AS trip_duration\") \\\n",
    "    .orderBy(\"trip_duration\", ascending=False) \\\n",
    "    .limit(1) \\\n",
    "    .show()"
   ]
  },
  {
   "cell_type": "markdown",
   "id": "14bb432d-19be-45c9-abdd-46f9bb3bfd45",
   "metadata": {},
   "source": [
    "## Question 6"
   ]
  },
  {
   "cell_type": "code",
   "execution_count": 11,
   "id": "9095d998-a8a4-42b3-81f8-39bb2e748fbc",
   "metadata": {},
   "outputs": [],
   "source": [
    "# !wget https://d37ci6vzurychx.cloudfront.net/misc/taxi_zone_lookup.csv"
   ]
  },
  {
   "cell_type": "code",
   "execution_count": 6,
   "id": "a8eaebe4-3c74-4c82-bde0-097a97d0ada4",
   "metadata": {},
   "outputs": [],
   "source": [
    "df_zone = spark.read.csv('taxi_zone_lookup.csv', header=True)"
   ]
  },
  {
   "cell_type": "code",
   "execution_count": 7,
   "id": "2386194c-f1b5-4556-a2f5-ca4a3c6a9123",
   "metadata": {},
   "outputs": [
    {
     "data": {
      "text/plain": [
       "['LocationID', 'Borough', 'Zone', 'service_zone']"
      ]
     },
     "execution_count": 7,
     "metadata": {},
     "output_type": "execute_result"
    }
   ],
   "source": [
    "df_zone.columns"
   ]
  },
  {
   "cell_type": "code",
   "execution_count": 8,
   "id": "e5bd3b53-0187-4249-8a15-635e9c212995",
   "metadata": {},
   "outputs": [
    {
     "name": "stdout",
     "output_type": "stream",
     "text": [
      "+----------+-------------+--------------------+------------+\n",
      "|LocationID|      Borough|                Zone|service_zone|\n",
      "+----------+-------------+--------------------+------------+\n",
      "|         1|          EWR|      Newark Airport|         EWR|\n",
      "|         2|       Queens|         Jamaica Bay|   Boro Zone|\n",
      "|         3|        Bronx|Allerton/Pelham G...|   Boro Zone|\n",
      "|         4|    Manhattan|       Alphabet City| Yellow Zone|\n",
      "|         5|Staten Island|       Arden Heights|   Boro Zone|\n",
      "+----------+-------------+--------------------+------------+\n",
      "only showing top 5 rows\n",
      "\n"
     ]
    }
   ],
   "source": [
    "df_zone.show(5)"
   ]
  },
  {
   "cell_type": "code",
   "execution_count": 12,
   "id": "393fa3b7-c0e7-405a-a3c2-1def5279300d",
   "metadata": {},
   "outputs": [],
   "source": [
    "df_join = df.join(df_zone, df.PULocationID == df_zone.LocationID, how='inner')"
   ]
  },
  {
   "cell_type": "code",
   "execution_count": 13,
   "id": "39fa3497-b25d-4b74-b0e0-ff8126441399",
   "metadata": {},
   "outputs": [
    {
     "data": {
      "text/plain": [
       "['VendorID',\n",
       " 'tpep_pickup_datetime',\n",
       " 'tpep_dropoff_datetime',\n",
       " 'passenger_count',\n",
       " 'trip_distance',\n",
       " 'RatecodeID',\n",
       " 'store_and_fwd_flag',\n",
       " 'PULocationID',\n",
       " 'DOLocationID',\n",
       " 'payment_type',\n",
       " 'fare_amount',\n",
       " 'extra',\n",
       " 'mta_tax',\n",
       " 'tip_amount',\n",
       " 'tolls_amount',\n",
       " 'improvement_surcharge',\n",
       " 'total_amount',\n",
       " 'congestion_surcharge',\n",
       " 'Airport_fee',\n",
       " 'LocationID',\n",
       " 'Borough',\n",
       " 'Zone',\n",
       " 'service_zone']"
      ]
     },
     "execution_count": 13,
     "metadata": {},
     "output_type": "execute_result"
    }
   ],
   "source": [
    "df_join.columns"
   ]
  },
  {
   "cell_type": "code",
   "execution_count": 19,
   "id": "0337ba24-1895-44e7-9425-37bdeda51e74",
   "metadata": {},
   "outputs": [
    {
     "name": "stderr",
     "output_type": "stream",
     "text": [
      "[Stage 27:>                                                         (0 + 2) / 2]\r"
     ]
    },
    {
     "name": "stdout",
     "output_type": "stream",
     "text": [
      "+--------------------+--------------+\n",
      "|                Zone|trip_frequency|\n",
      "+--------------------+--------------+\n",
      "|Governor's Island...|             1|\n",
      "+--------------------+--------------+\n",
      "\n"
     ]
    },
    {
     "name": "stderr",
     "output_type": "stream",
     "text": [
      "                                                                                \r"
     ]
    }
   ],
   "source": [
    "df_join.groupBy(\"Zone\") \\\n",
    "    .count() \\\n",
    "    .withColumnRenamed(\"count\", \"trip_frequency\") \\\n",
    "    .orderBy(\"trip_frequency\", ascending=True) \\\n",
    "    .limit(1) \\\n",
    "    .show()"
   ]
  }
 ],
 "metadata": {
  "kernelspec": {
   "display_name": "Python 3 (ipykernel)",
   "language": "python",
   "name": "python3"
  },
  "language_info": {
   "codemirror_mode": {
    "name": "ipython",
    "version": 3
   },
   "file_extension": ".py",
   "mimetype": "text/x-python",
   "name": "python",
   "nbconvert_exporter": "python",
   "pygments_lexer": "ipython3",
   "version": "3.12.7"
  }
 },
 "nbformat": 4,
 "nbformat_minor": 5
}
